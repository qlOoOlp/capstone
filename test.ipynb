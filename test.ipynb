{
 "cells": [
  {
   "cell_type": "code",
   "execution_count": 4,
   "metadata": {},
   "outputs": [],
   "source": [
    "qs=[[0,0,0,1],[0,-0.1305,0,0.99144]]"
   ]
  },
  {
   "cell_type": "code",
   "execution_count": 5,
   "metadata": {},
   "outputs": [],
   "source": [
    "def q2r(q0,q1,q2,q3):\n",
    "    return [[1-2*(q1**2+q2**2),2*(q0*q1-q2*q3),2*(q0*q2+q1*q3)],\n",
    "            [2*(q0*q1+q2*q3),1-2*(q0**2+q2**2),2*(q1*q2-q0*q3)],\n",
    "            [2*(q0*q2-q1*q3),2*(q1*q2+q0*q3),1-2*(q1**2+q2**2)]]"
   ]
  },
  {
   "cell_type": "code",
   "execution_count": 6,
   "metadata": {},
   "outputs": [
    {
     "name": "stdout",
     "output_type": "stream",
     "text": [
      "[[1, 0, 0], [0, 1, 0], [0, 0, 1]]\n",
      "[[0.9659395, -0.0, -0.25876584], [0.0, 1, -0.0], [0.25876584, 0.0, 0.9659395]]\n"
     ]
    }
   ],
   "source": [
    "for [q0,q1,q2,q3] in qs:\n",
    "    print(q2r(q0,q1,q2,q3))"
   ]
  }
 ],
 "metadata": {
  "kernelspec": {
   "display_name": "capstone_vlmaps",
   "language": "python",
   "name": "python3"
  },
  "language_info": {
   "codemirror_mode": {
    "name": "ipython",
    "version": 3
   },
   "file_extension": ".py",
   "mimetype": "text/x-python",
   "name": "python",
   "nbconvert_exporter": "python",
   "pygments_lexer": "ipython3",
   "version": "3.8.19"
  }
 },
 "nbformat": 4,
 "nbformat_minor": 2
}
